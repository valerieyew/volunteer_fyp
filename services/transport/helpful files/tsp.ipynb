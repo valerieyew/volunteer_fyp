{
 "cells": [
  {
   "cell_type": "code",
   "execution_count": 1,
   "metadata": {},
   "outputs": [
    {
     "name": "stdout",
     "output_type": "stream",
     "text": [
      "\n",
      "Note: you may need to restart the kernel to use updated packages.\n"
     ]
    }
   ],
   "source": [
    "conda install geopandas"
   ]
  },
  {
   "cell_type": "code",
   "execution_count": 2,
   "metadata": {},
   "outputs": [
    {
     "ename": "ModuleNotFoundError",
     "evalue": "No module named 'geopandas'",
     "output_type": "error",
     "traceback": [
      "\u001b[1;31m---------------------------------------------------------------------------\u001b[0m",
      "\u001b[1;31mModuleNotFoundError\u001b[0m                       Traceback (most recent call last)",
      "\u001b[1;32m<ipython-input-2-4762dba1be5e>\u001b[0m in \u001b[0;36m<module>\u001b[1;34m\u001b[0m\n\u001b[0;32m      1\u001b[0m \u001b[1;32mimport\u001b[0m \u001b[0mpandas\u001b[0m \u001b[1;32mas\u001b[0m \u001b[0mpd\u001b[0m\u001b[1;33m\u001b[0m\u001b[1;33m\u001b[0m\u001b[0m\n\u001b[1;32m----> 2\u001b[1;33m \u001b[1;32mimport\u001b[0m \u001b[0mgeopandas\u001b[0m \u001b[1;32mas\u001b[0m \u001b[0mgpd\u001b[0m\u001b[1;33m\u001b[0m\u001b[1;33m\u001b[0m\u001b[0m\n\u001b[0m\u001b[0;32m      3\u001b[0m \u001b[1;32mimport\u001b[0m \u001b[0mmatplotlib\u001b[0m\u001b[1;33m.\u001b[0m\u001b[0mpyplot\u001b[0m \u001b[1;32mas\u001b[0m \u001b[0mplt\u001b[0m\u001b[1;33m\u001b[0m\u001b[1;33m\u001b[0m\u001b[0m\n\u001b[0;32m      4\u001b[0m \u001b[1;33m\u001b[0m\u001b[0m\n\u001b[0;32m      5\u001b[0m \u001b[0mpd\u001b[0m\u001b[1;33m.\u001b[0m\u001b[0moptions\u001b[0m\u001b[1;33m.\u001b[0m\u001b[0mmode\u001b[0m\u001b[1;33m.\u001b[0m\u001b[0mchained_assignment\u001b[0m \u001b[1;33m=\u001b[0m \u001b[1;32mNone\u001b[0m\u001b[1;33m\u001b[0m\u001b[1;33m\u001b[0m\u001b[0m\n",
      "\u001b[1;31mModuleNotFoundError\u001b[0m: No module named 'geopandas'"
     ]
    }
   ],
   "source": [
    "import pandas as pd\n",
    "import geopandas as gpd\n",
    "import matplotlib.pyplot as plt\n",
    "\n",
    "pd.options.mode.chained_assignment = None"
   ]
  },
  {
   "cell_type": "code",
   "execution_count": null,
   "metadata": {},
   "outputs": [],
   "source": [
    "from map import extract_html_table, get_coords_by_code"
   ]
  },
  {
   "cell_type": "code",
   "execution_count": null,
   "metadata": {},
   "outputs": [],
   "source": [
    "geojson_raw = './data/national-map-line-geojson.geojson'\n",
    "map_gpd = gpd.read_file(geojson_raw)\n",
    "\n",
    "map_gpd = map_gpd.apply(extract_html_table, axis=1)\n",
    "map_gpd = map_gpd.drop(columns=[\"Description\"])\n",
    "\n",
    "c1 = map_gpd[\"Folderpath\"] == \"Layers/Expressway\"\n",
    "c2 = map_gpd[\"Folderpath\"] == \"Layers/Major_Road\"\n",
    "\n",
    "map_clean = map_gpd[c1 | c2]"
   ]
  },
  {
   "cell_type": "code",
   "execution_count": null,
   "metadata": {},
   "outputs": [],
   "source": [
    "coordinates = pd.read_csv('out/coordinates.csv', low_memory=False, lineterminator='\\n')\n",
    "mrt_coordinates = coordinates[coordinates[\"type\"] == \"mrt\"]"
   ]
  },
  {
   "cell_type": "code",
   "execution_count": null,
   "metadata": {},
   "outputs": [],
   "source": [
    "fig, ax = plt.subplots(figsize=(10, 10))\n",
    "map_clean[\"geometry\"].plot(ax=ax, alpha=0.25)\n",
    "plt.title(\"Singapore Map\")\n",
    "\n",
    "for i, row in mrt_coordinates.iterrows():\n",
    "    latitude = row[\"latitude\"]\n",
    "    longitude = row[\"longitude\"]\n",
    "\n",
    "    code = row[\"station_code\"]\n",
    "    color = \"black\"\n",
    "\n",
    "    if (\"NS\" in code): color = \"red\"\n",
    "    elif (\"CC\" in code): color = \"orange\"\n",
    "    elif (\"DT\" in code): color = \"blue\"\n",
    "    elif (\"EW\" in code): color = \"green\"\n",
    "    elif (\"NE\" in code): color = \"purple\"\n",
    "\n",
    "    plt.plot(\n",
    "      longitude,\n",
    "      latitude,\n",
    "      markersize=5,\n",
    "      color=color,\n",
    "      marker='s',\n",
    "      alpha=0.75\n",
    "    )\n",
    "\n",
    "plt.show()"
   ]
  },
  {
   "cell_type": "code",
   "execution_count": 3,
   "metadata": {},
   "outputs": [
    {
     "ename": "ImportError",
     "evalue": "cannot import name 'DistanceMetric' from 'sklearn.metrics' (C:\\Users\\pc\\anaconda3\\lib\\site-packages\\sklearn\\metrics\\__init__.py)",
     "output_type": "error",
     "traceback": [
      "\u001b[1;31m---------------------------------------------------------------------------\u001b[0m",
      "\u001b[1;31mImportError\u001b[0m                               Traceback (most recent call last)",
      "\u001b[1;32m<ipython-input-3-0510b6648e0f>\u001b[0m in \u001b[0;36m<module>\u001b[1;34m\u001b[0m\n\u001b[0;32m      1\u001b[0m \u001b[1;32mimport\u001b[0m \u001b[0mnumpy\u001b[0m \u001b[1;32mas\u001b[0m \u001b[0mnp\u001b[0m\u001b[1;33m\u001b[0m\u001b[1;33m\u001b[0m\u001b[0m\n\u001b[1;32m----> 2\u001b[1;33m \u001b[1;32mfrom\u001b[0m \u001b[0msklearn\u001b[0m\u001b[1;33m.\u001b[0m\u001b[0mmetrics\u001b[0m \u001b[1;32mimport\u001b[0m \u001b[0mDistanceMetric\u001b[0m\u001b[1;33m\u001b[0m\u001b[1;33m\u001b[0m\u001b[0m\n\u001b[0m\u001b[0;32m      3\u001b[0m \u001b[1;33m\u001b[0m\u001b[0m\n\u001b[0;32m      4\u001b[0m \u001b[0mdf\u001b[0m \u001b[1;33m=\u001b[0m \u001b[0mmrt_coordinates\u001b[0m\u001b[1;33m[\u001b[0m\u001b[1;33m[\u001b[0m\u001b[1;34m\"station_code\"\u001b[0m\u001b[1;33m,\u001b[0m \u001b[1;34m\"latitude\"\u001b[0m\u001b[1;33m,\u001b[0m \u001b[1;34m\"longitude\"\u001b[0m\u001b[1;33m]\u001b[0m\u001b[1;33m]\u001b[0m\u001b[1;33m.\u001b[0m\u001b[0miloc\u001b[0m\u001b[1;33m[\u001b[0m\u001b[1;36m20\u001b[0m\u001b[1;33m:\u001b[0m\u001b[1;36m35\u001b[0m\u001b[1;33m]\u001b[0m\u001b[1;33m\u001b[0m\u001b[1;33m\u001b[0m\u001b[0m\n\u001b[0;32m      5\u001b[0m \u001b[1;33m\u001b[0m\u001b[0m\n",
      "\u001b[1;31mImportError\u001b[0m: cannot import name 'DistanceMetric' from 'sklearn.metrics' (C:\\Users\\pc\\anaconda3\\lib\\site-packages\\sklearn\\metrics\\__init__.py)"
     ]
    }
   ],
   "source": [
    "import numpy as np\n",
    "from sklearn.metrics import DistanceMetric\n",
    "\n",
    "df = mrt_coordinates[[\"station_code\", \"latitude\", \"longitude\"]].iloc[20:35]\n",
    "\n",
    "df['latitude'] = np.radians(df['latitude'])\n",
    "df['longitude'] = np.radians(df['longitude'])\n",
    "\n",
    "dist = DistanceMetric.get_metric('haversine')\n",
    "\n",
    "matrix = dist.pairwise(df[[\"latitude\", \"longitude\"]].to_numpy()) * 6373\n",
    "\n",
    "matrix_df = pd.DataFrame(matrix, columns=df[\"station_code\"].unique(), index=df[\"station_code\"].unique())"
   ]
  },
  {
   "cell_type": "code",
   "execution_count": null,
   "metadata": {},
   "outputs": [],
   "source": [
    "fig, ax = plt.subplots(figsize=(10, 10))\n",
    "map_clean[\"geometry\"].plot(ax=ax, alpha=0.10)\n",
    "plt.title(\"Singapore Map\")\n",
    "\n",
    "for i, row in mrt_coordinates.iterrows():\n",
    "    latitude = row[\"latitude\"]\n",
    "    longitude = row[\"longitude\"]\n",
    "\n",
    "    code = row[\"station_code\"]\n",
    "    color = \"black\"\n",
    "\n",
    "    if (\"NS\" in code): color = \"red\"\n",
    "    elif (\"CC\" in code): color = \"orange\"\n",
    "    elif (\"DT\" in code): color = \"blue\"\n",
    "    elif (\"EW\" in code): color = \"green\"\n",
    "    elif (\"NE\" in code): color = \"purple\"\n",
    "\n",
    "    plt.plot(longitude, latitude, markersize=5, color=color, marker='s', alpha=0.50)\n",
    "\n",
    "for destination, row in matrix_df.iterrows():\n",
    "  source = \"NS23\"\n",
    "\n",
    "  distance = row[source]\n",
    "\n",
    "  [lat1, lon1] = get_coords_by_code(mrt_coordinates, source)\n",
    "  [lat2, lon2] = get_coords_by_code(mrt_coordinates, destination)\n",
    "\n",
    "  x_values = [lon1, lon2]\n",
    "  y_values = [lat1, lat2]\n",
    "\n",
    "  if (distance > 10):\n",
    "    plt.text(lon2, lat2, f\"{round(distance)}km\", size=11, weight='bold', color=\"purple\")\n",
    "\n",
    "  plt.plot(x_values, y_values, linestyle=\"-\", alpha=0.5, color=\"black\")\n",
    "\n",
    "plt.show()"
   ]
  },
  {
   "cell_type": "code",
   "execution_count": null,
   "metadata": {},
   "outputs": [],
   "source": [
    "from python_tsp.exact import solve_tsp_dynamic_programming\n",
    "\n",
    "permutation, distance = solve_tsp_dynamic_programming(matrix_df.to_numpy())"
   ]
  },
  {
   "cell_type": "code",
   "execution_count": null,
   "metadata": {},
   "outputs": [],
   "source": [
    "fig, ax = plt.subplots(figsize=(10, 10))\n",
    "map_clean[\"geometry\"].plot(ax=ax, alpha=0.10)\n",
    "plt.title(\"Singapore Map\")\n",
    "\n",
    "for i, row in mrt_coordinates.iterrows():\n",
    "    latitude = row[\"latitude\"]\n",
    "    longitude = row[\"longitude\"]\n",
    "\n",
    "    code = row[\"station_code\"]\n",
    "    color = \"black\"\n",
    "\n",
    "    if (\"NS\" in code): color = \"red\"\n",
    "    elif (\"CC\" in code): color = \"orange\"\n",
    "    elif (\"DT\" in code): color = \"blue\"\n",
    "    elif (\"EW\" in code): color = \"green\"\n",
    "    elif (\"NE\" in code): color = \"purple\"\n",
    "\n",
    "    plt.plot(longitude, latitude, markersize=5, color=color, marker='s', alpha=0.50)\n",
    "\n",
    "prev = None\n",
    "for index in permutation:\n",
    "  if (prev == None):\n",
    "    prev = index\n",
    "  else:\n",
    "    prev_node = matrix_df.index[prev]\n",
    "    node = matrix_df.index[index]\n",
    "\n",
    "    [lat1, lon1] = get_coords_by_code(mrt_coordinates, prev_node)\n",
    "    [lat2, lon2] = get_coords_by_code(mrt_coordinates, node)\n",
    "\n",
    "    x_values = [lon1, lon2]\n",
    "    y_values = [lat1, lat2]\n",
    "    plt.plot(x_values, y_values, linestyle=\"-\", alpha=1, linewidth=3, color=\"black\")\n",
    "\n",
    "    prev = index\n",
    "  \n",
    "plt.show()\n",
    "\n",
    "print(f\"{distance} km\")"
   ]
  },
  {
   "cell_type": "code",
   "execution_count": 5,
   "metadata": {},
   "outputs": [
    {
     "name": "stdout",
     "output_type": "stream",
     "text": [
      "Collecting py2optNote: you may need to restart the kernel to use updated packages.\n",
      "  Downloading py2opt-1.3.6-py3-none-any.whl (6.7 kB)\n",
      "Requirement already satisfied: pytest in c:\\users\\pc\\anaconda3\\lib\\site-packages (from py2opt) (0.0.0)\n",
      "Collecting random2==1.0.1\n",
      "  Downloading random2-1.0.1.zip (21 kB)\n",
      "Requirement already satisfied: numpy in c:\\users\\pc\\anaconda3\\lib\\site-packages (from py2opt) (1.22.2)\n",
      "Requirement already satisfied: attrs>=17.4.0 in c:\\users\\pc\\anaconda3\\lib\\site-packages (from pytest->py2opt) (20.3.0)\n",
      "Requirement already satisfied: iniconfig in c:\\users\\pc\\anaconda3\\lib\\site-packages (from pytest->py2opt) (1.1.1)\n",
      "Requirement already satisfied: packaging in c:\\users\\pc\\anaconda3\\lib\\site-packages (from pytest->py2opt) (20.4)\n",
      "Requirement already satisfied: pluggy<1.0,>=0.12 in c:\\users\\pc\\anaconda3\\lib\\site-packages (from pytest->py2opt) (0.13.1)\n",
      "Requirement already satisfied: py>=1.8.2 in c:\\users\\pc\\anaconda3\\lib\\site-packages (from pytest->py2opt) (1.9.0)\n",
      "Requirement already satisfied: toml in c:\\users\\pc\\anaconda3\\lib\\site-packages (from pytest->py2opt) (0.10.1)\n",
      "Requirement already satisfied: atomicwrites>=1.0 in c:\\users\\pc\\anaconda3\\lib\\site-packages (from pytest->py2opt) (1.4.0)\n",
      "Requirement already satisfied: colorama in c:\\users\\pc\\anaconda3\\lib\\site-packages (from pytest->py2opt) (0.4.4)\n",
      "Requirement already satisfied: six in c:\\users\\pc\\anaconda3\\lib\\site-packages (from packaging->pytest->py2opt) (1.15.0)\n",
      "Requirement already satisfied: pyparsing>=2.0.2 in c:\\users\\pc\\anaconda3\\lib\\site-packages (from packaging->pytest->py2opt) (2.4.7)\n",
      "Building wheels for collected packages: random2\n",
      "  Building wheel for random2 (setup.py): started\n",
      "  Building wheel for random2 (setup.py): finished with status 'done'\n",
      "  Created wheel for random2: filename=random2-1.0.1-py3-none-any.whl size=12075 sha256=dcab96d18fd145719fcb00994cf0dea09877d8ff70561e9d9e95f37cac3d9956\n",
      "  Stored in directory: c:\\users\\pc\\appdata\\local\\pip\\cache\\wheels\\6e\\ca\\f2\\082dec051ffcaec249ae491b8c90e305726a7390274682b4a4\n",
      "Successfully built random2\n",
      "Installing collected packages: random2, py2opt\n",
      "Successfully installed py2opt-1.3.6 random2-1.0.1\n",
      "\n"
     ]
    }
   ],
   "source": [
    "pip install py2opt"
   ]
  },
  {
   "cell_type": "code",
   "execution_count": 6,
   "metadata": {},
   "outputs": [
    {
     "ename": "NameError",
     "evalue": "name 'matrix_df' is not defined",
     "output_type": "error",
     "traceback": [
      "\u001b[1;31m---------------------------------------------------------------------------\u001b[0m",
      "\u001b[1;31mNameError\u001b[0m                                 Traceback (most recent call last)",
      "\u001b[1;32m<ipython-input-6-c901d536e96a>\u001b[0m in \u001b[0;36m<module>\u001b[1;34m\u001b[0m\n\u001b[0;32m      1\u001b[0m \u001b[1;32mfrom\u001b[0m \u001b[0mpy2opt\u001b[0m\u001b[1;33m.\u001b[0m\u001b[0mroutefinder\u001b[0m \u001b[1;32mimport\u001b[0m \u001b[0mRouteFinder\u001b[0m\u001b[1;33m\u001b[0m\u001b[1;33m\u001b[0m\u001b[0m\n\u001b[0;32m      2\u001b[0m \u001b[1;33m\u001b[0m\u001b[0m\n\u001b[1;32m----> 3\u001b[1;33m \u001b[0mroute_finder\u001b[0m \u001b[1;33m=\u001b[0m \u001b[0mRouteFinder\u001b[0m\u001b[1;33m(\u001b[0m\u001b[0mmatrix_df\u001b[0m\u001b[1;33m.\u001b[0m\u001b[0mvalues\u001b[0m\u001b[1;33m.\u001b[0m\u001b[0mtolist\u001b[0m\u001b[1;33m(\u001b[0m\u001b[1;33m)\u001b[0m\u001b[1;33m,\u001b[0m \u001b[0mmatrix_df\u001b[0m\u001b[1;33m.\u001b[0m\u001b[0mindex\u001b[0m\u001b[1;33m.\u001b[0m\u001b[0mtolist\u001b[0m\u001b[1;33m(\u001b[0m\u001b[1;33m)\u001b[0m\u001b[1;33m,\u001b[0m \u001b[0miterations\u001b[0m\u001b[1;33m=\u001b[0m\u001b[1;36m10\u001b[0m\u001b[1;33m)\u001b[0m\u001b[1;33m\u001b[0m\u001b[1;33m\u001b[0m\u001b[0m\n\u001b[0m\u001b[0;32m      4\u001b[0m \u001b[0mbest_distance\u001b[0m\u001b[1;33m,\u001b[0m \u001b[0mbest_route\u001b[0m \u001b[1;33m=\u001b[0m \u001b[0mroute_finder\u001b[0m\u001b[1;33m.\u001b[0m\u001b[0msolve\u001b[0m\u001b[1;33m(\u001b[0m\u001b[1;33m)\u001b[0m\u001b[1;33m\u001b[0m\u001b[1;33m\u001b[0m\u001b[0m\n\u001b[0;32m      5\u001b[0m \u001b[1;33m\u001b[0m\u001b[0m\n",
      "\u001b[1;31mNameError\u001b[0m: name 'matrix_df' is not defined"
     ]
    }
   ],
   "source": [
    "from py2opt.routefinder import RouteFinder\n",
    "\n",
    "route_finder = RouteFinder(matrix_df.values.tolist(), matrix_df.index.tolist(), iterations=10)\n",
    "best_distance, best_route = route_finder.solve()\n",
    "\n",
    "print(best_distance)\n",
    "print(best_route)"
   ]
  },
  {
   "cell_type": "code",
   "execution_count": null,
   "metadata": {},
   "outputs": [],
   "source": [
    "fig, ax = plt.subplots(figsize=(10, 10))\n",
    "map_clean[\"geometry\"].plot(ax=ax, alpha=0.10)\n",
    "plt.title(\"Singapore Map\")\n",
    "\n",
    "for i, row in mrt_coordinates.iterrows():\n",
    "    latitude = row[\"latitude\"]\n",
    "    longitude = row[\"longitude\"]\n",
    "\n",
    "    code = row[\"station_code\"]\n",
    "    color = \"black\"\n",
    "\n",
    "    if (\"NS\" in code): color = \"red\"\n",
    "    elif (\"CC\" in code): color = \"orange\"\n",
    "    elif (\"DT\" in code): color = \"blue\"\n",
    "    elif (\"EW\" in code): color = \"green\"\n",
    "    elif (\"NE\" in code): color = \"purple\"\n",
    "\n",
    "    plt.plot(longitude, latitude, markersize=5, color=color, marker='s', alpha=0.50)\n",
    "\n",
    "prev_station = None\n",
    "for station in best_route:\n",
    "  if (prev_station == None):\n",
    "    prev_station = station\n",
    "  else:\n",
    "    [lat1, lon1] = get_coords_by_code(mrt_coordinates, prev_station)\n",
    "    [lat2, lon2] = get_coords_by_code(mrt_coordinates, station)\n",
    "\n",
    "    x_values = [lon1, lon2]\n",
    "    y_values = [lat1, lat2]\n",
    "    plt.plot(x_values, y_values, linestyle=\"-\", alpha=1, linewidth=3, color=\"black\")\n",
    "\n",
    "    prev_station = station\n",
    "  \n",
    "plt.show()\n",
    "\n",
    "print(f\"{best_distance} km\")"
   ]
  },
  {
   "cell_type": "code",
   "execution_count": null,
   "metadata": {},
   "outputs": [],
   "source": []
  }
 ],
 "metadata": {
  "interpreter": {
   "hash": "77727e939dac3d1e22ba8b1771330ed0d02a4249e905153333c0014cb6558f57"
  },
  "kernelspec": {
   "display_name": "Python 3",
   "language": "python",
   "name": "python3"
  },
  "language_info": {
   "codemirror_mode": {
    "name": "ipython",
    "version": 3
   },
   "file_extension": ".py",
   "mimetype": "text/x-python",
   "name": "python",
   "nbconvert_exporter": "python",
   "pygments_lexer": "ipython3",
   "version": "3.8.5"
  }
 },
 "nbformat": 4,
 "nbformat_minor": 2
}
